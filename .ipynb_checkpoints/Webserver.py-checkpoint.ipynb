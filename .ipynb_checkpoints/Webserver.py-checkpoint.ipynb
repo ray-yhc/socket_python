{
 "cells": [
  {
   "cell_type": "code",
   "execution_count": null,
   "id": "83e47a7c",
   "metadata": {},
   "outputs": [],
   "source": [
    "from socket import *\n",
    "import sys\n",
    "\n",
    "\n",
    "\n",
    "serverSocket = socket.socket(socket.AF_INET, socket.SOCK_STREAM)\n",
    "\n",
    "serverPort = 6789"
   ]
  }
 ],
 "metadata": {
  "kernelspec": {
   "display_name": "Python 3",
   "language": "python",
   "name": "python3"
  },
  "language_info": {
   "codemirror_mode": {
    "name": "ipython",
    "version": 3
   },
   "file_extension": ".py",
   "mimetype": "text/x-python",
   "name": "python",
   "nbconvert_exporter": "python",
   "pygments_lexer": "ipython3",
   "version": "3.8.8"
  }
 },
 "nbformat": 4,
 "nbformat_minor": 5
}
